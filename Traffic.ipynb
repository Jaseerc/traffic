{
 "cells": [
  {
   "cell_type": "code",
   "execution_count": 33,
   "metadata": {},
   "outputs": [
    {
     "name": "stdout",
     "output_type": "stream",
     "text": [
      "Index(['date_time', 'is_holiday', 'air_pollution_index', 'humidity',\n",
      "       'wind_speed', 'wind_direction', 'visibility_in_miles', 'dew_point',\n",
      "       'temperature', 'rain_p_h', 'snow_p_h', 'clouds_all', 'weather_type',\n",
      "       'weather_description', 'traffic_volume'],\n",
      "      dtype='object')\n"
     ]
    }
   ],
   "source": [
    "from datetime import datetime,timedelta\n",
    "import pandas as pd\n",
    "import numpy as np\n",
    "data = pd.read_csv('Train.csv')\n",
    "print(data.columns)"
   ]
  },
  {
   "cell_type": "code",
   "execution_count": 34,
   "metadata": {},
   "outputs": [
    {
     "ename": "SyntaxError",
     "evalue": "incomplete input (1152263623.py, line 2)",
     "output_type": "error",
     "traceback": [
      "\u001b[1;36m  Cell \u001b[1;32mIn[34], line 2\u001b[1;36m\u001b[0m\n\u001b[1;33m    \u001b[0m\n\u001b[1;37m    ^\u001b[0m\n\u001b[1;31mSyntaxError\u001b[0m\u001b[1;31m:\u001b[0m incomplete input\n"
     ]
    }
   ],
   "source": [
    "def posix_time(dt):\n",
    "    "
   ]
  },
  {
   "cell_type": "code",
   "execution_count": null,
   "metadata": {},
   "outputs": [
    {
     "name": "stdout",
     "output_type": "stream",
     "text": [
      "0        2012-10-02 09:00:00\n",
      "1        2012-10-02 10:00:00\n",
      "2        2012-10-02 11:00:00\n",
      "3        2012-10-02 12:00:00\n",
      "4        2012-10-02 13:00:00\n",
      "                ...         \n",
      "33745    2017-05-17 21:00:00\n",
      "33746    2017-05-17 22:00:00\n",
      "33747    2017-05-17 22:00:00\n",
      "33748    2017-05-17 23:00:00\n",
      "33749    2017-05-17 23:00:00\n",
      "Name: date_time, Length: 33750, dtype: object\n"
     ]
    }
   ],
   "source": [
    "print(data['date_time'])"
   ]
  },
  {
   "cell_type": "code",
   "execution_count": null,
   "metadata": {},
   "outputs": [
    {
     "data": {
      "text/plain": [
       "0    0\n",
       "Name: is_holiday, dtype: int32"
      ]
     },
     "execution_count": 32,
     "metadata": {},
     "output_type": "execute_result"
    }
   ],
   "source": [
    "data = data.sort_values(\n",
    "    by=['date_time'], ascending=True).reset_index(drop=True)\n",
    "last_n_hour = [1,2,3,4,5,6]\n",
    "for n in last_n_hour:\n",
    "    data[f'last_{n}_hour_traffic'] = data['traffic_volume'].shift(n)\n",
    "data = data.dropna().reset_index(drop=True)\n",
    "data.loc[data['is_holiday'] != 'None','is_holiday']=1\n",
    "data.loc[data['is_holiday'] != 'None','is_holiday']=0\n",
    "data['is_holiday']= data['is_holiday'].astype(int)\n",
    "data['date_time'] = pd.to_datetime)data['date_time'])\n",
    "data['hour']= data['date_time'].map(lambda x:int(x.strftime(\"%H\")))\n",
    "data['month_day']= data['date_time'].map(lambda x:int(x.strftime(\"%d\")))\n",
    "data['weekday']= data['date_time'].map(lambda x: x.weekday()+1)\n",
    "data['month']= data['date_time'].map(lambda x:int(x.strftime(\"%m\")))\n",
    "data['year']= data['date_time'].map(lambda x:int(x.strftime(\"%m\")))"
   ]
  },
  {
   "cell_type": "code",
   "execution_count": null,
   "metadata": {},
   "outputs": [],
   "source": [
    "# ghguyhji"
   ]
  }
 ],
 "metadata": {
  "kernelspec": {
   "display_name": "Python 3",
   "language": "python",
   "name": "python3"
  },
  "language_info": {
   "codemirror_mode": {
    "name": "ipython",
    "version": 3
   },
   "file_extension": ".py",
   "mimetype": "text/x-python",
   "name": "python",
   "nbconvert_exporter": "python",
   "pygments_lexer": "ipython3",
   "version": "3.10.9"
  }
 },
 "nbformat": 4,
 "nbformat_minor": 2
}
